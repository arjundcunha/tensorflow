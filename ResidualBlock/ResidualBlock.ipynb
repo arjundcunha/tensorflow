{
  "nbformat": 4,
  "nbformat_minor": 0,
  "metadata": {
    "colab": {
      "name": "ResidualBlock.ipynb",
      "version": "0.3.2",
      "provenance": [],
      "toc_visible": true
    },
    "kernelspec": {
      "name": "python3",
      "display_name": "Python 3"
    }
  },
  "cells": [
    {
      "cell_type": "markdown",
      "metadata": {
        "id": "vMWlaF327TIf",
        "colab_type": "text"
      },
      "source": [
        "# Residual Block in three ways\n",
        "\n",
        "So TensorFlow2.0 is pretty neat, you can write code in not 1, not 2 but 3 ways, with each being pretty darn fun.\n",
        "\n",
        "Let's see how to write a simple Residual block in three ways in TensorFlow2.0"
      ]
    },
    {
      "cell_type": "code",
      "metadata": {
        "id": "7VF3gRhW7PXr",
        "colab_type": "code",
        "colab": {
          "base_uri": "https://localhost:8080/",
          "height": 377
        },
        "outputId": "8cd2aec2-3c8b-4a8f-8af8-79a669f40a66"
      },
      "source": [
        "!pip install tensorflow-gpu==2.0.0-beta1\n",
        "import tensorflow as tf\n",
        "import tensorflow_datasets as tfds\n",
        "tfds.disable_progress_bar()\n",
        "import numpy as np"
      ],
      "execution_count": 48,
      "outputs": [
        {
          "output_type": "stream",
          "text": [
            "Requirement already satisfied: tensorflow-gpu==2.0.0-beta1 in /usr/local/lib/python3.6/dist-packages (2.0.0b1)\n",
            "Requirement already satisfied: protobuf>=3.6.1 in /usr/local/lib/python3.6/dist-packages (from tensorflow-gpu==2.0.0-beta1) (3.7.1)\n",
            "Requirement already satisfied: gast>=0.2.0 in /usr/local/lib/python3.6/dist-packages (from tensorflow-gpu==2.0.0-beta1) (0.2.2)\n",
            "Requirement already satisfied: keras-applications>=1.0.6 in /usr/local/lib/python3.6/dist-packages (from tensorflow-gpu==2.0.0-beta1) (1.0.8)\n",
            "Requirement already satisfied: grpcio>=1.8.6 in /usr/local/lib/python3.6/dist-packages (from tensorflow-gpu==2.0.0-beta1) (1.15.0)\n",
            "Requirement already satisfied: tf-estimator-nightly<1.14.0.dev2019060502,>=1.14.0.dev2019060501 in /usr/local/lib/python3.6/dist-packages (from tensorflow-gpu==2.0.0-beta1) (1.14.0.dev2019060501)\n",
            "Requirement already satisfied: six>=1.10.0 in /usr/local/lib/python3.6/dist-packages (from tensorflow-gpu==2.0.0-beta1) (1.12.0)\n",
            "Requirement already satisfied: wrapt>=1.11.1 in /usr/local/lib/python3.6/dist-packages (from tensorflow-gpu==2.0.0-beta1) (1.11.2)\n",
            "Requirement already satisfied: numpy<2.0,>=1.14.5 in /usr/local/lib/python3.6/dist-packages (from tensorflow-gpu==2.0.0-beta1) (1.16.4)\n",
            "Requirement already satisfied: tb-nightly<1.14.0a20190604,>=1.14.0a20190603 in /usr/local/lib/python3.6/dist-packages (from tensorflow-gpu==2.0.0-beta1) (1.14.0a20190603)\n",
            "Requirement already satisfied: astor>=0.6.0 in /usr/local/lib/python3.6/dist-packages (from tensorflow-gpu==2.0.0-beta1) (0.8.0)\n",
            "Requirement already satisfied: wheel>=0.26 in /usr/local/lib/python3.6/dist-packages (from tensorflow-gpu==2.0.0-beta1) (0.33.4)\n",
            "Requirement already satisfied: google-pasta>=0.1.6 in /usr/local/lib/python3.6/dist-packages (from tensorflow-gpu==2.0.0-beta1) (0.1.7)\n",
            "Requirement already satisfied: keras-preprocessing>=1.0.5 in /usr/local/lib/python3.6/dist-packages (from tensorflow-gpu==2.0.0-beta1) (1.1.0)\n",
            "Requirement already satisfied: absl-py>=0.7.0 in /usr/local/lib/python3.6/dist-packages (from tensorflow-gpu==2.0.0-beta1) (0.7.1)\n",
            "Requirement already satisfied: termcolor>=1.1.0 in /usr/local/lib/python3.6/dist-packages (from tensorflow-gpu==2.0.0-beta1) (1.1.0)\n",
            "Requirement already satisfied: setuptools in /usr/local/lib/python3.6/dist-packages (from protobuf>=3.6.1->tensorflow-gpu==2.0.0-beta1) (41.0.1)\n",
            "Requirement already satisfied: h5py in /usr/local/lib/python3.6/dist-packages (from keras-applications>=1.0.6->tensorflow-gpu==2.0.0-beta1) (2.8.0)\n",
            "Requirement already satisfied: markdown>=2.6.8 in /usr/local/lib/python3.6/dist-packages (from tb-nightly<1.14.0a20190604,>=1.14.0a20190603->tensorflow-gpu==2.0.0-beta1) (3.1.1)\n",
            "Requirement already satisfied: werkzeug>=0.11.15 in /usr/local/lib/python3.6/dist-packages (from tb-nightly<1.14.0a20190604,>=1.14.0a20190603->tensorflow-gpu==2.0.0-beta1) (0.15.5)\n"
          ],
          "name": "stdout"
        }
      ]
    },
    {
      "cell_type": "markdown",
      "metadata": {
        "id": "XNP44q0D75Mu",
        "colab_type": "text"
      },
      "source": [
        "Let's have some basic data to test on!"
      ]
    },
    {
      "cell_type": "code",
      "metadata": {
        "id": "WYftPKv5A0nP",
        "colab_type": "code",
        "colab": {}
      },
      "source": [
        "((train_data, train_labels), (eval_data, eval_labels)) = tf.keras.datasets.fashion_mnist.load_data()\n",
        "\n",
        "train_data = train_data/np.float32(255)\n",
        "train_labels = train_labels.astype(np.int32)\n",
        "eval_data = eval_data/np.float32(255)\n",
        "eval_labels = eval_labels.astype(np.int32)"
      ],
      "execution_count": 0,
      "outputs": []
    },
    {
      "cell_type": "code",
      "metadata": {
        "id": "qxb_wPgkBH3u",
        "colab_type": "code",
        "colab": {
          "base_uri": "https://localhost:8080/",
          "height": 54
        },
        "outputId": "3422db9f-4217-4d74-e9e7-109918efbfba"
      },
      "source": [
        "dataset = tfds.load('fashion_mnist')\n",
        "def prep(datapoint):\n",
        "  image = datapoint['image']\n",
        "  label = datapoint['label']\n",
        "  image /= 255\n",
        "  image = tf.cast(image, tf.float32)\n",
        "  # image = image[None, ...]\n",
        "  return image, label\n",
        "\n",
        "train = dataset['train'].map(prep).batch(32)\n",
        "test = dataset['test'].map(prep)"
      ],
      "execution_count": 60,
      "outputs": [
        {
          "output_type": "stream",
          "text": [
            "W0720 01:38:16.061637 140064409622400 dataset_builder.py:397] Warning: Setting shuffle_files=True because split=TRAIN and shuffle_files=None. This behavior will be deprecated on 2019-08-06, at which point shuffle_files=False will be the default for all splits.\n"
          ],
          "name": "stderr"
        }
      ]
    },
    {
      "cell_type": "markdown",
      "metadata": {
        "id": "-63n4om67tTj",
        "colab_type": "text"
      },
      "source": [
        "## Method 1 : Sequential"
      ]
    },
    {
      "cell_type": "markdown",
      "metadata": {
        "id": "9VxleUWh8BH9",
        "colab_type": "text"
      },
      "source": [
        "The reason I prefer to use Reflection Padding is because of [this](https://twitter.com/karpathy/status/720622989289644033?lang=en) tweet by Andrej Karpathy.\n"
      ]
    },
    {
      "cell_type": "code",
      "metadata": {
        "id": "FKvf4LfQ7sFF",
        "colab_type": "code",
        "colab": {}
      },
      "source": [
        "class ReflectPad(tf.keras.layers.Layer):\n",
        "  def __init__(self):\n",
        "    super(ReflectPad, self).__init__()\n",
        "    self.padding = [[0, 0], [1, 1], [1, 1], [0, 0]]\n",
        "\n",
        "  def call(self, x):\n",
        "    return tf.pad(x, self.padding, mode = 'REFLECT')\n",
        "\n",
        "def residual_block(filters=256):\n",
        "  x = tf.keras.Input(shape=[None, None, filters])\n",
        "\n",
        "  block = tf.keras.Sequential([\n",
        "  ReflectPad(),\n",
        "  tf.keras.layers.Conv2D(filters, kernel_size=3,\n",
        "                                    use_bias=False),\n",
        "  tf.keras.layers.BatchNormalization(),\n",
        "  tf.keras.layers.ReLU(),\n",
        "  ReflectPad(),\n",
        "  tf.keras.layers.Conv2D(filters, kernel_size=3,\n",
        "                                    use_bias=False),\n",
        "  tf.keras.layers.BatchNormalization()\n",
        "  ])\n",
        "\n",
        "  output = x + block(x)\n",
        "  \n",
        "  model = tf.keras.Model(inputs=x, outputs=output)\n",
        "  return model"
      ],
      "execution_count": 0,
      "outputs": []
    },
    {
      "cell_type": "markdown",
      "metadata": {
        "id": "fNJitrXm8PEA",
        "colab_type": "text"
      },
      "source": [
        "That's it.\n",
        "This contains two convolutional layers, along with BatchNormalisation. You can customize it a lot more."
      ]
    },
    {
      "cell_type": "markdown",
      "metadata": {
        "id": "B0Qe9awnCJix",
        "colab_type": "text"
      },
      "source": [
        "## Method 2 : Functional"
      ]
    },
    {
      "cell_type": "code",
      "metadata": {
        "id": "CDx0oKuS-lzP",
        "colab_type": "code",
        "colab": {}
      },
      "source": [
        "class ResidualBlock(tf.keras.Model):\n",
        "  def __init__(self, filters):\n",
        "    input_data = tf.keras.Input(shape=[None, None, filters])\n",
        "    data = input_data\n",
        "    padding = [[0, 0], [1, 1], [1, 1], [0, 0]]\n",
        "\n",
        "    x = tf.pad(data, padding, mode='REFLECT')\n",
        "    x = tf.keras.layers.Conv2D(filters, kernel_size=3,\n",
        "                                        use_bias=False)(x)\n",
        "    x = tf.keras.layers.BatchNormalization()(x)\n",
        "    x = tf.keras.layers.ReLU()(x)\n",
        "\n",
        "    x = tf.pad(x, padding, mode='REFLECT')\n",
        "    x = tf.keras.layers.Conv2D(filters, kernel_size=3,\n",
        "                                        use_bias=False)(x)\n",
        "    x = tf.keras.layers.BatchNormalization()(x)\n",
        "\n",
        "    output = x + input_data\n",
        "\n",
        "    super(ResidualBlock, self).__init__(\n",
        "        inputs=input_data, outputs=output)"
      ],
      "execution_count": 0,
      "outputs": []
    },
    {
      "cell_type": "markdown",
      "metadata": {
        "id": "Fzj3m6tfCON4",
        "colab_type": "text"
      },
      "source": [
        "## Method 3: Sub-Classing"
      ]
    },
    {
      "cell_type": "code",
      "metadata": {
        "id": "Ocq3GJw-CQXE",
        "colab_type": "code",
        "colab": {}
      },
      "source": [
        "class ResidualBlock(tf.keras.Model):\n",
        "  def __init__(self, filters):\n",
        "    super(ResidualBlock, self).__init__()\n",
        "    self.filters = filters\n",
        "    self.padding = [[0, 0], [1, 1], [1, 1], [0, 0]]\n",
        "\n",
        "    self.conv1 = tf.keras.layers.Conv2D(filters, kernel_size=3,\n",
        "                                        use_bias=False)\n",
        "    self.bn1 = tf.keras.layers.BatchNormalization()\n",
        "\n",
        "    self.conv2 = tf.keras.layers.Conv2D(filters, kernel_size=3,\n",
        "                                        use_bias=False)\n",
        "    self.bn2 = tf.keras.layers.BatchNormalization()\n",
        "\n",
        "  def call(self, input_tensor, training=False):\n",
        "    x = tf.pad(input_tensor, self.padding, mode='REFLECT')\n",
        "    x = self.conv1(x)\n",
        "    x = self.bn1(x, training=training)\n",
        "    x = tf.nn.relu(x)\n",
        "\n",
        "    x = tf.pad(x, self.padding, mode='REFLECT')\n",
        "    x = self.conv2(x)\n",
        "    x = self.bn2(x, training=training)\n",
        "\n",
        "    x += input_tensor\n",
        "    return x"
      ],
      "execution_count": 0,
      "outputs": []
    },
    {
      "cell_type": "code",
      "metadata": {
        "id": "z7noEGmWCRsE",
        "colab_type": "code",
        "colab": {}
      },
      "source": [
        ""
      ],
      "execution_count": 0,
      "outputs": []
    }
  ]
}